{
 "cells": [
  {
   "cell_type": "markdown",
   "metadata": {},
   "source": [
    "# Computing limits on unseen companion masses for KOI-1.01\n",
    "In this notebook we'll use the `ttv2fast2furious.companion_limits` \n",
    "to derive upper limits on the mass of potential companions to KOI-1.01 \n",
    "based on its lack of TTVs. We'll begin with importing some packages."
   ]
  },
  {
   "cell_type": "code",
   "execution_count": null,
   "metadata": {
    "collapsed": true
   },
   "outputs": [],
   "source": [
    "import ttv2fast2furious\n",
    "import numpy as np\n",
    "import matplotlib.pyplot as plt\n",
    "%matplotlib inline"
   ]
  },
  {
   "cell_type": "code",
   "execution_count": null,
   "metadata": {},
   "outputs": [],
   "source": [
    "from ttv2fast2furious.companion_limits import UnseenPerturberMassUpperLimit\n",
    "from ttv2fast2furious.companion_limits import PerturberPeriodPhaseToBestSigmaChiSquared\n",
    "from ttv2fast2furious.kepler import KOISystemObservations"
   ]
  },
  {
   "cell_type": "markdown",
   "metadata": {},
   "source": [
    "## KOI-1.01's transit timing residuals\n",
    "We use `KOISystemObservations` to get transit observations for the KOI-1 system which hosts a single detected transiting planet, KOI-1.01. Plotting KOI-1.01's transit time residuals, no TTV signal is evident."
   ]
  },
  {
   "cell_type": "code",
   "execution_count": null,
   "metadata": {
    "collapsed": true
   },
   "outputs": [],
   "source": [
    "transit_times_data = KOISystemObservations(1)"
   ]
  },
  {
   "cell_type": "code",
   "execution_count": null,
   "metadata": {},
   "outputs": [],
   "source": [
    "observations = transit_times_data['KOI-1.01']\n",
    "ttv = observations.linear_fit_residuals()\n",
    "times = observations.times\n",
    "err = observations.uncertainties\n",
    "to_minutes = lambda x: 24*60*x\n",
    "plt.errorbar(times,to_minutes(ttv),yerr=to_minutes(err),fmt='ks')\n",
    "plt.title(\"KOI-1.01 TTV\")\n",
    "plt.xlabel(\"Time [d]\")\n",
    "plt.ylabel(\"TTV [min.]\")"
   ]
  },
  {
   "cell_type": "code",
   "execution_count": null,
   "metadata": {
    "collapsed": true
   },
   "outputs": [],
   "source": [
    "UnseenPerturberMassUpperLimit"
   ]
  },
  {
   "cell_type": "markdown",
   "metadata": {},
   "source": [
    "## Turning timing residuals into mass limits\n",
    "Next, we'll use the `UnseenPerturberMassUpperLimit` function to derive upper limits on the mass of any companions ruled out by KOI-1.01's lack of TTVs:"
   ]
  },
  {
   "cell_type": "code",
   "execution_count": null,
   "metadata": {},
   "outputs": [],
   "source": [
    "help(UnseenPerturberMassUpperLimit)"
   ]
  },
  {
   "cell_type": "markdown",
   "metadata": {},
   "source": [
    "Behind the scenes, `UnseenPerturberMassUpperLimit` computes limits as follows:\n",
    " - TTV signals for a pertuber with period `Ppert` are computed for `Nphi` uniformly spaced orbital phases, $\\phi$, of the perturber. The transiting planet and perturber are assumed to be on circular orbits (technically the planets are assumed to have *free* eccentricities $=0$). The signal is generated via pertubation theory (see <a href=https://ui.adsabs.harvard.edu/#abs/2018arXiv181101970H/abstract> this paper </a>). (*Note:* pertubation theory will fail for planets *in* resonances so use caution interpreting mass limits near resonance.) \n",
    " - The function \n",
    " $$q(m_{up}) = \\int_{0}^{m_{up}}dm\\int_{-\\pi}^{\\pi}d\\phi p(m,\\phi;P_{pert})$$, \n",
    " where $p(m,\\phi;P_{pert})$ is the posterior probability distribution function for a pertuber of mass $m$ and orbital phase $\\phi$ at period $P_{pert}$ is computed.  This invloves numerically computing a 1-D integral over $\\phi$. (Technical details will appear in a future paper).\n",
    " - Root-finding is used to invert the above function and determine upper limits $m_{up}(q)$ for each $q$ given in `confidence_levels`."
   ]
  },
  {
   "cell_type": "code",
   "execution_count": null,
   "metadata": {
    "collapsed": true
   },
   "outputs": [],
   "source": [
    "# Use confindence levels corresponding to 1,2, and 3 sigma\n",
    "from scipy.special import erf\n",
    "cls = [erf(n/np.sqrt(2)) for n in range(1,4)]\n",
    "\n",
    "T0,P = observations.linear_best_fit()\n",
    "period_ratios = np.linspace(1.1,1.9,30)\n",
    "\n",
    "# Define a function we will map over a range of pertuber periods\n",
    "def fn(x):\n",
    "    return UnseenPerturberMassUpperLimit(x,cls,observations,Nphi=10,PlanetData=[T0,P])\n",
    "\n",
    "# If you have rebound installed, you can use the InterruptiblePool class to parallelize \n",
    "# the calculation\n",
    "try: \n",
    "    from rebound.interruptible_pool import InterruptiblePool\n",
    "    pool = InterruptiblePool()\n",
    "    mapfn = pool.map\n",
    "except:\n",
    "    print(\"rebound.interruptible_pool not available, proceeding with serial computation.\")\n",
    "    mapfn = map\n",
    "    \n",
    "limits = mapfn(fn,P*period_ratios)\n",
    "\n",
    "# Cast limits as list if it is not already.\n",
    "#  Depends on which 'mapfn' was used.\n",
    "\n",
    "limits = list(limits)"
   ]
  },
  {
   "cell_type": "code",
   "execution_count": null,
   "metadata": {},
   "outputs": [],
   "source": [
    "limits = np.array(limits)\n",
    "for i in range(3):\n",
    "    plt.semilogy(period_ratios,limits[:,i]/3e-6,'-x',label=\" $%d\\sigma$\"%(i+1))\n",
    "plt.legend(title=\"Confidence Lvl\")\n",
    "plt.ylabel(\"Companion Mass $[M_\\oplus]$\",fontsize=16)\n",
    "plt.xlabel(\"Companion Period Ratio\",fontsize=16)\n",
    "plt.tick_params(labelsize=12,direction='in',size=8)\n",
    "plt.tick_params(which=\"minor\",direction='in',size=4)\n",
    "plt.title(\"KOI-1.01\",fontsize=16);"
   ]
  },
  {
   "cell_type": "markdown",
   "metadata": {},
   "source": [
    "## Extend limit calculations to greater period ratio"
   ]
  },
  {
   "cell_type": "code",
   "execution_count": null,
   "metadata": {
    "collapsed": true
   },
   "outputs": [],
   "source": [
    "period_ratios2 = np.linspace(2.1,3.9,30)\n",
    "limits2 = pool.map(fn,P*period_ratios2)\n",
    "limits2 = np.array(limits2)"
   ]
  },
  {
   "cell_type": "code",
   "execution_count": null,
   "metadata": {},
   "outputs": [],
   "source": [
    "for i in range(3):\n",
    "    plt.semilogy(np.append(period_ratios,period_ratios2),np.append(limits[:,i],limits2[:,i])/3e-6,'-x',label=\" $%d\\sigma$\"%(i+1))\n",
    "plt.legend(title=\"Confidence Lvl\")\n",
    "plt.ylabel(\"Companion Mass $[M_\\oplus]$\",fontsize=16)\n",
    "plt.xlabel(\"Companion Period Ratio\",fontsize=16)\n",
    "plt.tick_params(labelsize=12,direction='in',size=8)\n",
    "plt.tick_params(which=\"minor\",direction='in',size=4)\n",
    "plt.title(\"KOI-1.01\",fontsize=16);"
   ]
  },
  {
   "cell_type": "code",
   "execution_count": null,
   "metadata": {
    "collapsed": true
   },
   "outputs": [],
   "source": []
  }
 ],
 "metadata": {
  "kernelspec": {
   "display_name": "Python 3",
   "language": "python",
   "name": "python3"
  },
  "language_info": {
   "codemirror_mode": {
    "name": "ipython",
    "version": 3
   },
   "file_extension": ".py",
   "mimetype": "text/x-python",
   "name": "python",
   "nbconvert_exporter": "python",
   "pygments_lexer": "ipython3",
   "version": "3.6.8"
  }
 },
 "nbformat": 4,
 "nbformat_minor": 2
}
